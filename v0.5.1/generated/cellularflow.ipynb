{
 "cells": [
  {
   "cell_type": "markdown",
   "source": [
    "# Advection-diffusion of tracer by cellular flow\n",
    "\n",
    "\n",
    "An example demonstrating the advection-diffusion of a tracer by a cellular flow.\n",
    "\n",
    "## Install dependencies\n",
    "\n",
    "First let's make sure we have all required packages installed."
   ],
   "metadata": {}
  },
  {
   "cell_type": "markdown",
   "source": [
    "```julia\n",
    "using Pkg\n",
    "pkg\"add PassiveTracerFlows, Plots, Printf\"\n",
    "```"
   ],
   "metadata": {}
  },
  {
   "cell_type": "markdown",
   "source": [
    "## Let's begin\n",
    "Let's load `PassiveTracerFlows.jl` and some other needed packages."
   ],
   "metadata": {}
  },
  {
   "outputs": [],
   "cell_type": "code",
   "source": [
    "using PassiveTracerFlows, Plots, Printf"
   ],
   "metadata": {},
   "execution_count": 1
  },
  {
   "cell_type": "markdown",
   "source": [
    "## Choosing a device: CPU or GPU"
   ],
   "metadata": {}
  },
  {
   "outputs": [],
   "cell_type": "code",
   "source": [
    "dev = CPU()     # Device (CPU/GPU)\n",
    "nothing # hide"
   ],
   "metadata": {},
   "execution_count": 2
  },
  {
   "cell_type": "markdown",
   "source": [
    "## Numerical parameters and time-stepping parameters"
   ],
   "metadata": {}
  },
  {
   "outputs": [],
   "cell_type": "code",
   "source": [
    "      n = 128            # 2D resolution = n²\n",
    "stepper = \"RK4\"          # timestepper\n",
    "     dt = 0.02           # timestep\n",
    " nsteps = 800            # total number of time-steps\n",
    " nsubs  = 25             # number of time-steps for intermediate logging/plotting (nsteps must be multiple of nsubs)\n",
    "nothing # hide"
   ],
   "metadata": {},
   "execution_count": 3
  },
  {
   "cell_type": "markdown",
   "source": [
    "## Numerical parameters and time-stepping parameters"
   ],
   "metadata": {}
  },
  {
   "outputs": [],
   "cell_type": "code",
   "source": [
    "L = 2π        # domain size\n",
    "κ = 0.002     # diffusivity\n",
    "nothing # hide"
   ],
   "metadata": {},
   "execution_count": 4
  },
  {
   "cell_type": "markdown",
   "source": [
    "## Set up cellular flow\n",
    "We create a two-dimensional grid to construct the cellular flow. Our cellular flow is derived\n",
    "from a streamfunction ``ψ(x, y) = ψ₀ \\cos(x) \\cos(y)`` as ``(u, v) = (-∂_y ψ, ∂_x ψ)``."
   ],
   "metadata": {}
  },
  {
   "outputs": [],
   "cell_type": "code",
   "source": [
    "grid = TwoDGrid(n, L)\n",
    "\n",
    "ψ₀ = 0.2\n",
    "mx, my = 1, 1\n",
    "\n",
    "ψ = @. ψ₀ * cos(mx * grid.x) * cos(my * grid.y)\n",
    "\n",
    "uvel(x, y) =  ψ₀ * my * cos(mx * x) * sin(my * y)\n",
    "vvel(x, y) = -ψ₀ * mx * sin(mx * x) * cos(my * y)\n",
    "nothing # hide"
   ],
   "metadata": {},
   "execution_count": 5
  },
  {
   "cell_type": "markdown",
   "source": [
    "## Problem setup\n",
    "We initialize a `Problem` by providing a set of keyword arguments."
   ],
   "metadata": {}
  },
  {
   "outputs": [],
   "cell_type": "code",
   "source": [
    "prob = TracerAdvectionDiffusion.Problem(dev; nx=n, Lx=L, κ=κ, steadyflow=true, u=uvel, v=vvel,\n",
    "                                          dt=dt, stepper=stepper)\n",
    "nothing # hide"
   ],
   "metadata": {},
   "execution_count": 6
  },
  {
   "cell_type": "markdown",
   "source": [
    "and define some shortcuts"
   ],
   "metadata": {}
  },
  {
   "outputs": [],
   "cell_type": "code",
   "source": [
    "sol, clock, vars, params, grid = prob.sol, prob.clock, prob.vars, prob.params, prob.grid\n",
    "x, y = grid.x, grid.y\n",
    "nothing # hide"
   ],
   "metadata": {},
   "execution_count": 7
  },
  {
   "cell_type": "markdown",
   "source": [
    "## Setting initial conditions"
   ],
   "metadata": {}
  },
  {
   "cell_type": "markdown",
   "source": [
    "Our initial condition for the tracer ``c`` is a gaussian centered at ``(x, y) = (L_x/5, 0)``."
   ],
   "metadata": {}
  },
  {
   "outputs": [],
   "cell_type": "code",
   "source": [
    "gaussian(x, y, σ) = exp(-(x^2 + y^2) / (2σ^2))\n",
    "\n",
    "amplitude, spread = 0.5, 0.15\n",
    "c₀ = [amplitude * gaussian(x[i] - 0.2 * grid.Lx, y[j], spread) for i=1:grid.nx, j=1:grid.ny]\n",
    "\n",
    "TracerAdvectionDiffusion.set_c!(prob, c₀)\n",
    "nothing # hide"
   ],
   "metadata": {},
   "execution_count": 8
  },
  {
   "cell_type": "markdown",
   "source": [
    "Let's plot the initial tracer concentration and streamlines. Note that when plotting, we decorate\n",
    "the variable to be plotted with `Array()` to make sure it is brought back on the CPU when\n",
    "`vars` live on the GPU."
   ],
   "metadata": {}
  },
  {
   "outputs": [],
   "cell_type": "code",
   "source": [
    "function plot_output(prob)\n",
    "  c = prob.vars.c\n",
    "\n",
    "  p = heatmap(x, y, Array(vars.c'),\n",
    "         aspectratio = 1,\n",
    "              c = :balance,\n",
    "         legend = :false,\n",
    "           clim = (-0.2, 0.2),\n",
    "          xlims = (-grid.Lx/2, grid.Lx/2),\n",
    "          ylims = (-grid.Ly/2, grid.Ly/2),\n",
    "         xticks = -3:3,\n",
    "         yticks = -3:3,\n",
    "         xlabel = \"x\",\n",
    "         ylabel = \"y\",\n",
    "          title = \"initial tracer concentration (shading) + streamlines\",\n",
    "     framestyle = :box)\n",
    "\n",
    "  contour!(p, x, y, Array(ψ'),\n",
    "     levels=0.0125:0.025:0.2,\n",
    "     lw=2, c=:black, ls=:solid, alpha=0.7)\n",
    "\n",
    "  contour!(p, x, y, Array(ψ'),\n",
    "     levels=-0.1875:0.025:-0.0125,\n",
    "     lw=2, c=:black, ls=:dash, alpha=0.7)\n",
    "\n",
    "  return p\n",
    "end\n",
    "nothing # hide"
   ],
   "metadata": {},
   "execution_count": 9
  },
  {
   "cell_type": "markdown",
   "source": [
    "## Time-stepping the `Problem` forward"
   ],
   "metadata": {}
  },
  {
   "cell_type": "markdown",
   "source": [
    "We time-step the `Problem` forward in time."
   ],
   "metadata": {}
  },
  {
   "outputs": [
    {
     "name": "stdout",
     "output_type": "stream",
     "text": [
      "step: 0000, t: 0, walltime: 0.25 min\n",
      "Arrays have incorrect length or dimension.\n",
      "Arrays have incorrect length or dimension.\n",
      "Arrays have incorrect length or dimension.\n",
      "Arrays have incorrect length or dimension.\n",
      "Arrays have incorrect length or dimension.\n",
      "Arrays have incorrect length or dimension.\n",
      "Arrays have incorrect length or dimension.\n",
      "Arrays have incorrect length or dimension.\n",
      "Arrays have incorrect length or dimension.\n",
      "Arrays have incorrect length or dimension.\n",
      "Arrays have incorrect length or dimension.\n",
      "Arrays have incorrect length or dimension.\n",
      "Arrays have incorrect length or dimension.\n",
      "Arrays have incorrect length or dimension.\n",
      "Arrays have incorrect length or dimension.\n",
      "Arrays have incorrect length or dimension.\n",
      "step: 0200, t: 4, walltime: 0.47 min\n",
      "Arrays have incorrect length or dimension.\n",
      "Arrays have incorrect length or dimension.\n",
      "Arrays have incorrect length or dimension.\n",
      "Arrays have incorrect length or dimension.\n",
      "Arrays have incorrect length or dimension.\n",
      "Arrays have incorrect length or dimension.\n",
      "Arrays have incorrect length or dimension.\n",
      "Arrays have incorrect length or dimension.\n",
      "Arrays have incorrect length or dimension.\n",
      "Arrays have incorrect length or dimension.\n",
      "Arrays have incorrect length or dimension.\n",
      "Arrays have incorrect length or dimension.\n",
      "Arrays have incorrect length or dimension.\n",
      "Arrays have incorrect length or dimension.\n",
      "Arrays have incorrect length or dimension.\n",
      "Arrays have incorrect length or dimension.\n",
      "step: 0400, t: 8, walltime: 0.48 min\n",
      "Arrays have incorrect length or dimension.\n",
      "Arrays have incorrect length or dimension.\n",
      "Arrays have incorrect length or dimension.\n",
      "Arrays have incorrect length or dimension.\n",
      "Arrays have incorrect length or dimension.\n",
      "Arrays have incorrect length or dimension.\n",
      "Arrays have incorrect length or dimension.\n",
      "Arrays have incorrect length or dimension.\n",
      "Arrays have incorrect length or dimension.\n",
      "Arrays have incorrect length or dimension.\n",
      "Arrays have incorrect length or dimension.\n",
      "Arrays have incorrect length or dimension.\n",
      "Arrays have incorrect length or dimension.\n",
      "Arrays have incorrect length or dimension.\n",
      "Arrays have incorrect length or dimension.\n",
      "Arrays have incorrect length or dimension.\n",
      "step: 0600, t: 12, walltime: 0.50 min\n",
      "Arrays have incorrect length or dimension.\n",
      "Arrays have incorrect length or dimension.\n",
      "Arrays have incorrect length or dimension.\n",
      "Arrays have incorrect length or dimension.\n",
      "Arrays have incorrect length or dimension.\n",
      "Arrays have incorrect length or dimension.\n",
      "Arrays have incorrect length or dimension.\n",
      "Arrays have incorrect length or dimension.\n",
      "Arrays have incorrect length or dimension.\n",
      "Arrays have incorrect length or dimension.\n",
      "Arrays have incorrect length or dimension.\n",
      "Arrays have incorrect length or dimension.\n",
      "Arrays have incorrect length or dimension.\n",
      "Arrays have incorrect length or dimension.\n",
      "Arrays have incorrect length or dimension.\n",
      "Arrays have incorrect length or dimension.\n",
      "step: 0800, t: 16, walltime: 0.52 min\n",
      "Arrays have incorrect length or dimension.\n",
      "Arrays have incorrect length or dimension.\n",
      "┌ Info: Saved animation to \n",
      "│   fn = /home/runner/work/PassiveTracerFlows.jl/PassiveTracerFlows.jl/docs/src/generated/cellularflow.mp4\n",
      "└ @ Plots /home/runner/.julia/packages/Plots/sUjwv/src/animation.jl:104\n"
     ]
    },
    {
     "output_type": "execute_result",
     "data": {
      "text/plain": "Plots.AnimatedGif(\"/home/runner/work/PassiveTracerFlows.jl/PassiveTracerFlows.jl/docs/src/generated/cellularflow.mp4\")",
      "text/html": [
       "<video controls><source src=\"data:video/mp4;base64,AAAAIGZ0eXBpc29tAAACAGlzb21pc28yYXZjMW1wNDEAAAAIZnJlZQAAN71tZGF0AAACoAYF//+c3EXpvebZSLeWLNgg2SPu73gyNjQgLSBjb3JlIDE2MSAtIEguMjY0L01QRUctNCBBVkMgY29kZWMgLSBDb3B5bGVmdCAyMDAzLTIwMjAgLSBodHRwOi8vd3d3LnZpZGVvbGFuLm9yZy94MjY0Lmh0bWwgLSBvcHRpb25zOiBjYWJhYz0xIHJlZj0zIGRlYmxvY2s9MTowOjAgYW5hbHlzZT0weDM6MHgxMTMgbWU9aGV4IHN1Ym1lPTcgcHN5PTEgcHN5X3JkPTEuMDA6MC4wMCBtaXhlZF9yZWY9MSBtZV9yYW5nZT0xNiBjaHJvbWFfbWU9MSB0cmVsbGlzPTEgOHg4ZGN0PTEgY3FtPTAgZGVhZHpvbmU9MjEsMTEgZmFzdF9wc2tpcD0xIGNocm9tYV9xcF9vZmZzZXQ9LTIgdGhyZWFkcz0zIGxvb2thaGVhZF90aHJlYWRzPTEgc2xpY2VkX3RocmVhZHM9MCBucj0wIGRlY2ltYXRlPTEgaW50ZXJsYWNlZD0wIGJsdXJheV9jb21wYXQ9MCBjb25zdHJhaW5lZF9pbnRyYT0wIGJmcmFtZXM9MyBiX3B5cmFtaWQ9MiBiX2FkYXB0PTEgYl9iaWFzPTAgZGlyZWN0PTEgd2VpZ2h0Yj0xIG9wZW5fZ29wPTAgd2VpZ2h0cD0yIGtleWludD0yNTAga2V5aW50X21pbj0xMiBzY2VuZWN1dD00MCBpbnRyYV9yZWZyZXNoPTAgcmNfbG9va2FoZWFkPTQwIHJjPWNyZiBtYnRyZWU9MSBjcmY9MjMuMCBxY29tcD0wLjYwIHFwbWluPTAgcXBtYXg9NjkgcXBzdGVwPTQgaXBfcmF0aW89MS40MCBhcT0xOjEuMDAAgAAAD8hliIQAEf/+94gfMstp+TrXchHnrS6tH1DuRnFgcv8GsGQqCGW8C7TVvD+10DkmpuKgmW0kfeyttqZm/NB6udCcgArSf47C1Q0/wbQDulngOTCRqFTdPx9Z+YZ/lroUd2cItDdAxGc46/I+cnaDmJAkVeyWDVwcO9yGc/3/mtPP79bzU1RTXg1Twv1T/B42gAqriyhKzX7MCWl9Y9wjHwX9GZ+wb3oRsQJb/YtHy4WSC6nyntLqr+4Ml+QTmsHK7XtuErAs6zXuZGqFo2YHpemUJRl893nz2jjaz67TaRPAEOy/yk2ZX+UkcMTkv9QW3Yspm66SVDHv9vaQTSWB0KITfHCoV/lWqs4U6HF1Wsr2/6IGZCM74qn+SbPTqL+xlhTmYF58Adezct2lbEdxirhAtyDN3MNBYkfrDJsbVuU2xS4WnlecFcQ/Yzl7og8YvGwqSQJ2VrKjsE45JA/GKfmw4S4GZS65/BpfktnCXoEt9yZhQm2kPd9YkvA+RSHR2oiqYIDVnrRUfmiL6/H8eTC2YZT/8n5ECf5epjL6N/7fFidiCuB8erSFxHdIo7GqOvGe3ek7ik1LbO53f9xzGuPObYTIM36CW+jTHesd+sJfaCUkz93cBoXpsVdBvb4w4CC8RfkzIAdgoJJ763hbjfN7mIgdzaFY+b/WkF4l7c7f1bTnz8dgiH7pfUS5+Iv7d4RfEokjKzgNh+exZxU3PLzcj58etRRFGg0xIQGmGq6a3Ughhq9+M0TcOxwi0Ul2G8Zz+FRjcPRGh7vT4othBQV4Ir+plsZ+wsjY+P/trxorxH3mrekVPYpOsSJ9EJLTEyVqOGKxnlCnkVTP0R44c5sSxLCRBRhxPAdLR46PL+ng9sfV7kY4am7V+uGHuRRrJuje81Rzw/wBGy6QYF4TomY+FJHyImRsb4nmJpOA7hRi+tfxx8TerkUX3GuI3TfjTJTdQ+L86B9YHvhYWbh0UnahnJhLb9FyiS2xf5omRTNBOS8GQ4t7XqnUyx/MVgJCrOBjsQekxx2eP9Sa78XJRcBy87eiMUaeszjP+OlFG42fcz3dOTji0XIcLGnr3XwZoXaJe8oEP2RXtEaU9ky++gyhI4786sct8CSCXU5uVknTKlSpGX0kJFzUNwI34yhAe5Fg5AGw3x1a1nVNkpCwrtmxHGoAm8UEvGxxpZ64ZuFqKAYaUI5LENkixMK7F5lL9o7hnLDkQxX8xqGqHCvFRlq5LyhTb9x1gypV0utkzr6rZ9QJbjy/n6kIeIR6Wdt4SNcP2gQ461cj7Dw8WQOB0YSD1dZGOwW1l3R9praUSAG9MgL7SMV9UD/Kr9qBZ4B2e98NWhaFjKXvVmAnQQuEvhP+jJKAHuKKnyAI/I26zLJ6Da/UA8s/HUzMJrAeB3YaYS6x6S6rEBcl36hKsiCjFX+l9NDlhgvNFeBc6rF8m6UJa090m4LaExq6hz4d9RPTRPspzMP8arVdFvJhw2MOBVA6NnGBR68TUzYVLqrjsg+AdfK5QoGlONDAVuo5b7Ma8VyZPbg/uuYkEg9gIha3qhAFSYQT7KR34sol+OoNyHwBlOzroONibVdngmThjrbYRK2t/Ywtc2t748QGvSqTatnv0mu68mxy+jjrVsp0w8WXy1HIDggmbsRvcLMaGlPfz4Iu9K2A/givivqo/P+ci9FR6HwvUn/a95dqB8NW2uzuvGnvJg1IcnF8GKBRIu9g6DDawLHIqpKlYloWZUe6Dt8B9NWEFlevL6wM7P08PzHwVrxJwsSuPO8oqj6KpYzaMAnH4mmgAu/mS9cU8BwAxPyQP1jOABIUPasRQu97wO149Tz6SR2HTwhKzNduMb64m+OiWT9hbRNhQqdRg6N7DJ6n8FiyqTeUN2cZen2EdKUeHnzzAGtyuFbfbIZbBgC+CO+0hurcMSkqNwcuq+7nSjxH5NcgrkUnXin93i5mkFD7DmpU5JPll+dYoSBZe5nUlww1GXCr8sWoFBTo4gIFj+ckId2nFXayltBIwfWosioeTRbsQPfae+Mhi96vapmXoZ4CdjYyZQrRrrR+bav5ZaXNzBHEsnLDOjpbdqoSlZU6/Aj5NisiKtL7JJZzFOgwtD0W+5n6GQ2JWFRt3oCzIWoR77/nlCbyH9InCsrQ2K7Emddn4JqnyG+pKrztsllBErtvJdKq0GjYS506Qfr5dHaBBVb5RfBS2FWpQVoKbN+JCkLXNTXVWG5Ydu+wk2/SZngg1od2fJBap2oHUk3xCntFJOKDlUUW2s5bt4jSJL1oVThap/p+hfMqPsZ07eJ4vSXtoqRTw0R71oSdmDxBk0KXFUYJy1/EkoOuhKKbSqDxDGznlDu3MxnVFCgvZo+B/gJ6GxAr/9L9051fw2uGYHfDj8B0TpeTUchMZAeWE+5fzDuGpFoVro7E4H2z8BdALQXbwHzFf1sPMdPQcg1LrhYJaXFNDbjkP4aO7XqL//9JGYweHEihbafstTr2UmHBaMYp10MMPmDmiMcPRsYbE16Yadqsx9XfEpc8rqpqrGQJWhXombnuz13QpNsLmZ6dkohEtsY3Ldkx3VyNtDJK3KUPk38hmwSqVO+7hXsyAeQh5449kt1Ecv8pgqusJLoY/BJlyN1HNsvdAYn8ONJh6k6siecJAD40EZVrEsr7uuMKT+NjHMCvh1NPk8fMvkecLyh0r3zo0SbLenfUkkUBjaSWDRE52LsmYAAAAwAASxRcVQdjx0+rWMGtlCxxQzxe87gfrTEFYiCTZzg/Q4nB1N5115vIATFj8d4gnLcKJU389wBJYjrxn+FKCnLqMePWCpTdBX1U5FqOAiJVUu7oIwKMA4ACdfZfON9KXRb243M7VVn3ARt2E3Kyk4XusCV0qPer11FUoo7s0LQgCF8EsywXI2rpkEkNTDoqayhv/eX+bY0nVwh64/g9bYzwKAjXkuIojbZ0EvXDeE46vKloQtSmwInemVFAgfC+HyLwXIwOVTgRDjx+7INRR/sf6fY+4LMxUqLFBwcKBgLXXjtYM2RqG89aVXPnuoLbDZx3SNpzslDIvpzCuO40kIDc5UZAjwMi3MfaOj/rP6FmPwRh7/8j9ERxc2Fkwt6muXIcE5rSjNjc55raPaWyXwFakuV995jhVcmGRbJ0guuxT/bkoHpB5TImw3Bz3QRLuJUbq/0+mxP59fObmNMCCVSHaO2eX1SEeZcsAwCQKwN6QjwPatv0ozTHXToPdEC0XGNZlW0fgQCdy76k83Dd0ZoSyD+NZTMI0EhHWGhsDR5EzhRZjvyV6GeL6J3yYHDkHqlHIAP7WZnTH/qUluksun+EZZElaDVYnCE/TR42wzXqQ5mL6VwcnhHXC+GjK6gKmvk7mvuFv50OPhQM5QoaE9F7jEKDtMuX2saE75LE81xIqO4P2lGpsKoM09bRAG7f4NsOQ8Zb/8db9TC4X0kCVMagxicXMNINW0+2OmH9+iDtTtOtYMu6sHMlLi+46JBGaYLwtdFBDaAzN6p/wfc04zgCh2jOcoKkU7GuWPNCGqEd1qHj8v+brhK7nOadC/fWMW8Wybt29ED+fQLb5dMVKxCdwL4wxEmLyBua+2kpQb4DJnCGZyaktYsJqAgQ51RkpWa8DXWh+g4xMXojtrl/H2NFDWAsjkWCO1XwqT/KZQgIxdo4enWsUyxQIIqO1nC1Jar5thVj8I9KWGudQdbaIG6VvwDJNVIgewgmkrgIdcvWovczcTPazMNAmgTO5s7H/qIQTPEz1NOGyTHWprhwi0B2MB0Ce5SpxIBwAVmdNaUYDsALNIhwBG8IYEByxw9tqnavSUGXIu1XU1DEJhYAVyq501J8xftdeEppfU3O73lecOtOHALpUwz62iMmZQasIOXiKQ/EgU+j67d1cSLgGfZCv3infWFNmTu8XcmI1QuqJ57p369R6Sdryl/Oaq1qxYCTwzfY+3dJvWXRC6yNm4SwbFN3KldHaeYvGusfzO66JaAlKEQnst9FOWntMiwjbqgt7x0lYL1qLL0nYbGi7ICcHOFqHR7SlUjL3bVkY56805fKCYrQ8iHdzCstwmkTIQ9VYaLzU/s8BjqgLiUsnRabioSMIITWabff48fo8gh3lwwyr/ZnVh+e8sdaIDfK+jrckgDKEU+UrpESnGct1RNyn8OxNUgziKtq4K2aLLr9SBnc/b29Wbp7vhKm5wSjzwP4PDlprsy3EmkK1mJ/Yun8WnSumjOwbVHRrWEdqw/JKN/F8tSnzct7LWKnpDV9BQEdhbUEPWjfuyyMkhCUSknAEVJ69X5a3MWevvDNE69h54igAE83YOqlu/g7rQYHXle6ELfsNAB/IXUPvQueSmZ+t01/mqD8EPKfagzzTirLlvSewzyQGl6oeuhs6DVuPP1+PGXJb+E1+hf6JO2IhvZe0JpzVGpkpFy05Cz2Vn6MHBI2DzwOQome1WBgsE8+MD/5bnlHaEPjypXVwFl1LDMd1pKI088vuXt7CORM+H27qZb0POSXazOrcnTK83xsMjtIywIM5pkx9AxHaigVeMG35gxwCvYe+06IcSjbvR/PiM/+covIzTvdwfoV9DqyDBAiIoBwAh2ik3Do9u252Sa/Twkt0cRuLJuA5BNXBMboG+jzLQEm9hVtSUzdJ2vXBCnuicOL6CNEvPhltXev53HfvOwtj+kiFuimKtuXfXjJezGc5CphRDAB2EVCEjXkKf0dxmbk0+7knFLE7uZ+j4oqWeCF6SMDryoUUhMJfF2gdZoi9oJrVo/UfkPXWGT31kSYgt7hOqDVKoFgkn62OV4m6gMRGhd1/vWl1Chgd4cgww5md/UJ1GjP6ujlkGT4dbzdevLq2O7KTz+HfVFskQx5GK+R6aDFfD6gjzDExcML1fTFa+k7QdrPBiVvkpSAyTdzvkTIQr5asINqD6ck6/zmP4XIQAAAvGBpGbpe0ndjbyuCeguaOx3NPcFFh8EBuEmVz96ag/kNSC/IsMf/aoipCaCfY6AmcrX/PruNbMMQN3O3r+8ZIUPrUi2aJPykbVk2FCM0yt05keR162cHQwGC4Wy2eg1dDPm5tHkQ0P1YrL3dm636uUei0j5yKywq6hL6PSm+b8Yn2O0A+mBGdXL+qaKCVV3BG2k+nzE8maUJkQb1KzYJzukEl4ZsyrWuzWBtNPVOLJDb6JrV4pHMgY2MIFgYayyDSADqgwn1NeJbjilzFC3rqhNUcIbDfPw08nSAbW8vNpazyS2m3cST6agzWwYJnucBOLM59Ll36ff8gPaNToohaJehES/ifnNMK6hvxN6qcL1Lkm4AAScZZsk6a2tevPXrA4wRFb9wTKyWvn/CHHjO5dBtGUqeiFVTgOzOPfDUax56eZf/KK1ojZ9VUS+NpHjkZa4S2RrB8QAAAmVBmiRsQR/+tStNXP2AEZV1vjt3b3L9uc6VfPyXsn3738g1+gsYTLffTWUyuXN/ATJbIMI4QebJ82cK+qhgc7GxTQjtkCRGhX5PLngnycnnsXPyCreuh/kpziZ5R7GrcpbkA3iFjj4hJffCy5YnWCVe68r3nQfjZeL7gdqBp4g3LnTDNgHP5LtxxajmQDMdboJqTsNw8DCpAiNrnzk/J+1MRPgAVV244X8+rXCAE61SOfpxgmVKQ2xicMq9qXojnGnYZxceP0dV4OBnd2EC5JR8X2rU7Q1AGKwpRckWr+QHY1KJn/VqC819p+0LjRH0+0GFYLxdR7zfUNPo6Zf0QWf2g5FAHS5zXE+UxL4JHmeZYFvObubzF9qZA22Nyp4kucmccjZRS1pT/0iSexMVe3FO26w/h7c+k/2nf0ZyTmzwngKnM5+UQYf9ym93uJBk/VN96sYkZmfPv5GXmbWWnA2BXxCLQw8kbD7j8psG+RxOv+wMLtckULORHKGTI12Uj1etb+x0qM/zbmTZ8+6C7noI7ZbHPawLATqBaBjWv3HOsuVhPhaBRtu3idBIwE8EDBbF0jW7J4dpVdqCIPYONb6BFf4r4qx0Nx2WDrf2uDdOvi2BnHINfBd4Ygfvru/U8G+BFPghV98VDiAKTXa8dBsskTMRXvqnypceRVyyRRzn8ZLme3CZw7OXx+KruKgIBpdpksBf38cQioRq/vd/WmxNq6HSuMg8vT2F/DAp7djvde2xAPH97HNDkCeB/GG6QoLDqLOQcIwmFIvf48cPgKXeshm9wGJvBmi91oHZO/SYdp6wALGAAAAA5UGeQniG/wK5xDwzIMNKPMoAAlk9mB9wimQGsB6GW8dU/peCJbItz1tpg9MhS3jHv0tdzBeI4TYcbnuo3ZK9eYj7+YAz7TFueWPqxW7EhwXRKSSxaHhJYj7U6C7wBe6/8US68vUzA2BmrIN/TNS6ixdhLBgCmTPCrKCbGOoAPKmLpFj108aovgYUqkgf0niSlHhJHvLQU8D+SaYR1oO/gAUZuxMDSsHA4DQawdWymXCTXSDfxHxv/PQ3WUosWFmPIhRxV77vX1KCwJzlBo2REXHX39MjBVyztBQg4Vmw08yNPXpGMCEAAACsAZ5hdEM/BhJANcoLVKLJeO6AD4SdrJm68HcP4t3zTC6cBeHHho3n2kL96vBkntsq/tKw3YnFAuSDyUaQggeqSLgtUF6e5m9PPbtSrRxgr7/JSdCIasoJtwy5e2v14wagRVCYnAYPEWTEIFLFBFZjdZHUQPH1YljT8ipIEWVW/fM2ncsULFpPoTk3s7TTWzrjDFIcA+VE1UJxjtI7Xpv6DjLesmlZaiYPQYAP8AAAAMABnmNqQz8DSAGsiChdJeSuAD6xws7VhLZqUI1lzs8mLcPKEsE+sG1XT21wOuXW9yJO6irVsYrmPTUcV5dhRgJYNHuIyHjoOrHs7PHdTHzMMvZ3sRO3LgTCEvRkHUm2DgGtGMGePJP+AhJkOMp8caXdyDsFvDBy9lMgHX97zd3Smr0o5eA1GxXUE9WsuZzqlGrjpT7BHUKxAODI1UAY0NjMwaqccEu2Z7bUjJiKMbdIfWxxrS5AjWvqo4mnsnwAccEAAAHLQZpoSahBaJlMCCP//rUqje1/hSt33oDOAC4Z7seeSg3gH27/ic1u+CJ0ic7gHNDbFnn/W0bw+HDnffq+XhSO7rtd+rPTVSdELUR5pb3YTvctfV+qzBwhLATfEyR3vyUQ1DS954neb6yTF9ZAsEq+XKjUJxj/9EAqQEv0Dd7woPiBl+GwCTYJuU9z1m+Jhsvv71x1tDLW1qLgwYP+2zRiHD87H6dme926GxEWZqz1VP4LKRdmpJlYevkHmxrVDTqY/J0kdyvgBIJMn3dbPDzb77g05GrSX3mgkS5aoxRhfrhqnjMOqaJ/IIc3/ktkbrI6gWg8K7BGLJBqTCAP7kKNN68VRaVO46DJj0d27WAY9Wao/R7ZXA/R8VFuog3cJRCULqAfMXtq96ytbFJDKZALZAHmD5Lb7WRmT6ZeG0es7PuGbMGIWpneb3mt0Y48UJFEdCs2Fc4Qz+mHINOZNnp6ShPBHQ7nHSsafgw5HU4Y5js5YMhhz5wiw0t+RlmtQOuecY1D2QHaUOBuYQgXex3nbyn6setQACMVzI1tA+RM6S7HCC9p8QAMgCoTf/6KhK5YahVuLBpAy1vgqoL/PViQ8mU3ymTCilicT6ghAAAA60GehkURLDf/ArllhQOjVYGz3RACaf+raCumqUyhxS5C/1DYgnGjbPhfpGB123EyMopRqDgU/wozz+GZAuA4cJ4rT728NeR6cDs2S4nIYgRY1tQvyOBCYHqDa/qox/Maj/XrhVmwq7ZfFjGpGLSe3JJt3KUzyqUxtH2rfbM1QDA37CHeZ1OcaDwtHxrh26hKvRr5Ppi6SLVS1W0fFuLBHBR50s17Tvzs27t5wXF/eqSEpN/2xRADRcyvCgKqU+sZJWGDd/r9HeGEkB5j6tcH74LfYFQgV8mEDeWgoa3+utoidOJE/i1hiTmQYsEAAADEAZ6ldEM/A0jHdMQCRRb5K4APrHCztWEtmpQjVXL5j3fiXG4esEg2qAvLkBfS8veRI4QAJ6m0dRrFrKScHjeAi6XV4jIVIYYHOKk0LoXJ+L6iOwdvz7bb5vIejFOpNtcfJ1w+Ianr18Bxjwbav3RpdL4OwIyfb5PpGHXgWVx4dEZDZLb+ZacwZGsiNDkAQq+7gJvEQpJSQ6vUFRxB7ZiGJ0/LlvN8VaL/gzn63AnM4RS8wruG+xQVA0aZZJOa2zseYoALyQAAANwBnqdqQz8DSAFmr1fW2/mABM9U64GQRXeehtrc0wunAXhx4aN59pC/erwZJ7bKv7SsN2JxQLkg8lGkIIHqki4PVBOnuZvTz27Uq0cYK+/yUnQiGrKCbcMuXtr9eMGoEVQmJwGEIhbLVsLiT0jqDydt3lEGzlSORcpVYCW8JaMgA7v+qtZXO+iAC1VNntgJqN0ps6n3Jcl6a9bv2rKUb6qB4pDDico3+PTsDVlX0cBDbmVNCaL6cPQAfr4KjnGIALl8Msgte/52Du6diYNXRWZRXdPUaMTeBl9W7FNwAAACBEGarEmoQWyZTAgh//6qVRvBozN4y6usyUjAAZd879gLWCdf73InKt0259ZLOQNcnOsD1vM08WClCJf57IXhMdOD4pD2NHlECz7DQ56mPWfY4D4JKtw38nEAYHPOxjQ95vA4SG6/bI/F6Lasq/TC8Hel99xn+OcpXDyI0E+CiqgZyGnesJb0OjFq8/qOmB2xxOeogIzk/iA17z8z47UGyjXA8QokqsmFYd+Ojpqm7n1wCGXpX0BGL07jDMDMDAJOw079jQE5QOMuizqQnlffIPM2d8JLH3K2Y4TysUE7NSQpttvVWKrxMBHaPrLpbfSE0b2gSupxlMGsJSwBsoK58+f1SBUFGmoKB+2JYA3uLYcRzhh+9G5gW/GYOHuNQE9qh83MNkcF7AsABj2iS9BQTCv685UfWXLWo+WKGolQVd4BdYG42td83q6XBD1zez29YeSduDhcmc1UR/e23aeEAAU/lmBVLB9cBfkQCylnM/aR3sf6kdcbUTX4VIOi3aAEKH+X8F+yPXtCxnPSm+qQ3ChQJILOYjk9pnu2JeyAj9LZlgaxWs4Bhyr6KWj0nfct3s6teGrATCzeRoRO5beHWe5p4VKUkqtT/4a3Mya4YRgBC30lib376ML2cTLq4PqtpCXbDdGK0WLubik86OV5qgIwyOEF8H8UF8++p8TVqbJcpmBrpgAAAQNBnspFFSw3/wK1e64fJJ/Rz++AAJyRM5P+AxjymOSrYz63qh4dfQPITAMD1Cn1dmHSf3IdiPejtTiOcao6wT3VCUSc2/lgbwaenzCn67bFNoyj0eLqgv1H61jsfFSAThb6RQ9Fg+dnPG2YXxm9PjJWm4Z9VWovK4Zt6tU0GGnbwvWy0WYeDEmZgLvX37ieTg2FzBDSj+cHj0WqEJTab9jQI8h+O39oNaDQ5XDxwQfdkhBXnES+VmtMVlHHf7GHCs0NuucAq7QyLan9WqMGA7WMZh6DTXJbOldWSVfCKSWVBKwIWWBOqvlZ8EE5cUtx0B9Xb6oA1Fo5aNCzLFVsZzM+hrEXAAAA6gGe6XRDPwNIx3V1vO7aIlUABNt4LO1YS2alCNZc7PJi3DyhLBPrBtT/cbJLbhpEMNTHI9lqMANDf42m1AKTYQ9jpUUldkI1wly4qZX4D3mCfDyWptgCvOCLNUjbwPY/wAcr6NhyqKfpfTaPzndOhhzNqIaEyK93ldzTg7ANA8dT/t14FMzofOErw6XBuLQlpX159/mWz3uqVvR5ieaY8PRuI8OdJxJNMKJhIOLnovUWH7EDc8R5KhegL3YMNPoPiFPGZw1qQoq1LBXFOHuLwQG14OqFILcoy4tP71CYKzO2SkmKtkCdR+Gh4AAAAOIBnutqQz8DSAGsiCeUQ4kQIATF3Mc1XSO/1s1KEaxp2SzFuHpCWCfWDaoAMq4JXMr1jJvB/0htYsmLSeyDj2FGbzarFD2Y6tUqQuKk0OoXLGL5vuwdvz8Hb7vOekFOpCHCFr54gzyOYg5AGoZbe0ZFSYMtyMATZaxXdDSKbcveqil1E9W02Rn7izA+dsg9Lvaq/3FcpSRhXuZ/XdDaqWQH1RwcX54fv8OD+bAV5AOjozkj1OZKappvz8SmVxepU25QTuzPQn8X0PU2I+KU/K3MJ/NIKmzC6/WAyTd5C5aLrCTgAAAB5EGa8EmoQWyZTAgh//6qVRvHZJyZ0ErswAHaIyjt/PaJwJ/QorFIyuPNm0CArhGfaoUCkqFzHmYJ1NyT3DXRggoU8M0F8e7qbptBkdaNjAsZInnZPH0CITvG0/2N1F/V252zsMzFPagyBQq9FAZKyM3LPH367c1ck5RlvX/JFmybjtfvAE1kD0n+NHg28GEHMfmxFeMheX+oWCq9/zmNXDMbuoR8+uYAhuf3ry+9TfAEUYF/A/KX1MybAo1g4aJaf8oCL4RhMgBOOoMdpkFDU4wGl/K8mBJBz1HYkYuQx/2cydGhbV9v2FR89XqnVXkjzMAQASWYGfhDEty9wrcSEDpuuQUb1loc2Da8lj2N8ol7tKM3LT7bGzpuMqTvIzVp6QN85s2Q5isPFDDQxt+p4UTTH04oIQ4vE7XaB5kU0g/flvQuTA5Cxbq0W/tdac3MgZo/3X2cxENQitMG2lLDHr4z/gDC/k4WZEPCb8+NekXKsBh9CMDxjfQ074uTJhDzQZu9q0mjLTu3od0L7kQ/sR0igzYcgLNfG36YBW2iTyuhk5UdU2H46iBfKs4Gn8gwv6d7l2DxanmCIvzOeksO0xpGaovOlipKRdTEdzjGYi8ZxxP1q7UIiBonm54Oe+746OmeSTEAAAEAQZ8ORRUsN/8Cw/K0Qr9+BX/ACaboPX3W+RI2ibMas6zcGfmyoqX2lQNwFYMP5tBBTtkiQ+gptYolsExve0nXRHqkjUKAfjhIse7wSRMIhZfWxkdP+hW2Q1IgyHD1yr8+td8v/ALXD4ytvQ0WcyYvwIiE2O7Wx0CTIGKvn8ztsJnKj8rA8xlwHtHkbhPdL2tMxtKn7A8U2cjGqTlL+Vovz2TzQcAk+7N+2N01p0GHFGp8/jVC1RiHhVomFj5NeB7+dntmU8An3MvCcG/iOJxMuAhLQ46KJj8Ykjcc92lfrVO6H2y87Rn+4rfszdXVlq0Il7YquShPZHCrWVMz2aBlQQAAANYBny10Qz8DSMca6UUS87UAHwk7WTN14O4fxbvmmF04C8OPDRvPtIX71eDJPbZV/aVhuxOKBckHko0hBA9UkXAvo0nT3M3p57dqVaOMFff5KToRDVlBNuGXL21+vGDUCKoTE4DCEf61r11FBFZjdZHUQPH1ULqRyLlKrAHEFHqh/fapzlXrCdXboyZIYtoZdd7WIVeFm3PBfsQXTWixFC8/iAsK+4l1yqEtgQxxgKzlclkLKlz1qHVfrouKpenJ3Q1GMuPp38Www49gWPfi+KCdpHs3ohOnAAAAuAGfL2pDPwNIAWavV9bb+YAEz1TrgZBFd56G2tzTC6cBeHHho3n2kL96vBkntsq/tKw3YnFAuSDyUaQggeqSLf1hJm9b3M3p57dqVaOMFff5KToRDVlBNuGXL21+vGDUCKoTE4DCEc5fOu0yJPSOoPJ23eUQbVp/M6iVJgBpkpx/Vb9BQdbadmFEncH73na6/93IrltkCK3hYUPTy5Qidg5KXjZjSfQPUyf2mzF2p8CxsUzCvNw7LegAAAUhQZs0SahBbJlMCCH//qpuaX8TAAcZH51RbIi9tDPeT2Ze50z7xrLMt70JBJ0X4S/rqQnXPnT0SmT2J0fa79Jc8WNuzgoPwWMIaVV5MQqQBK65jDZYvjXqXOgHEI//hfUOOg06FPYIsiSBrlzUnqXS9PDghVLF05pEoQ0wkGBpSHdt7EvGHzviFuqBjdGQguIT1C78dY+UDRzI4yfaGkqYruixl2qC8mqFVIPiK0B5v56jDX8Uq+pQcEBF1oQ2C+nM7iL9mPgcdXiK4Mfl5d5eTg78y3ji/BU6BL0/hEcip4M7BdbfA6MuenzyIRjhuVHfReGAaFBN5xTHryO8e8hax3Je4sFteGDdxCzktx2e5/cgnLw67iOnjTzOKMl3hWsaZcy0VQYSYXl+DBb5SFoWxnHDgaQo/uD6UgTAGlDsTKzFjySsyt4PemyEUk4/9I1gvyjEGTpykm9DlWWh5ikVvv8xtunMkk7NQba2tjQq+u7gKHvRPNMkn7e9teCgkYMZO0sfJHqi8B4zE+prJKmjOxs36zfw2+DM5j9Htqf+eNPBz2AP+06bRKg5Tp2hyDUk0U6eWlVILAU9gxGN7ZjEp1fJsv6FwPTaQYjpuiAZCz8u3NU5tSb51mnt2PU6g8vxL0RgvokSnPFt+VLcByziT+ivvzQzvu+4b00yG7bKe/oBaE1LB4lr2s28z0XGshgQsMLjL4kH6DSO976ZxUIZtk6NOkcBEulV3cOT8cpKQZHRKSNb5WXDtZxLet/t1PS/dMeOPBURLkGnw8rNVJxAWS+xx8VsytvGbdtiHvM2JUmaGhAGN/QqzsiSnYjHBUy7j79MvMYNGvjIbMqTFRX10k5m53bQPVDK9Q28u/555ba/02liA/TpLy+5mTVX+ejTIsnbSvJzE2x5ygAT+84GeGwG3V6srKW6WH6OwP/dC8vCDeX0ldUW4+Ava+9KaZi4kg/o4xJdI5sTsceqoA3tT68MBeXJOGrokXMWvpl5JwUy7jior5aoZfoNquvkIju5DIwoYGzLhAta6QDuIa5mxr7CXCjpslqnMt1XX+11wg0xS3bI9PlEczaLl7YGN3hIDEVanFGMRv2tEBXqHqZn7JAYmkJNzaIRQe7gkAOCXJfaaK82f5XrA2U3QyQ5YsbJCmmVD/e2dHmmKjwj900AKDC0KmtKEeDycIhU+hB1ctLOwzGCVzU0/aQvwNSyJsp7JDIaHGpVWOVnuY4m3WoyJYIEsJNyjvkSR+gf/OmoLeo3kJFTzteCOeDK3ZMD2QN7oMuQGMZiNNvjX5ebVt+8Yy7/FxrFuCnnPVv0Fo7+2FCfuMwOH/0T2Bmiqufi0MZy1esTDc6q/AP6MR0xGikAGwe4oDCRfES2LIbZ2vssaTBBCcFx093MWB7eKdaFttZiha0VAP9eZC93evtECHBTJAqBkF/C3Z3FxGxC9TdvNJ9eov0Vfdkl00LdiUAW+FtVWUNngbUdnU72SsTea5F2TSuby+SPYx7UTA2DJh8UYJ/5xMwdgYkYf76PzzXaE+IJq/M1htD+eCkPyy/FXFuTdTkHXSW+2N1DNRA+QAtDJjpwNO7GohNOmTRbOpGBeIM3QdA/SoZ/mMJHqeqUzqufVGvtL/WSBE7D5y+/MyKIONqA9RtGiR8kHzDiR3Tl9WGJd6kYGR7uW7e3O+oTF+qoWfgHgKfwYNpmDG3NgTLdkeUDX00mbkc9CdsWhEz3IpXh7ibW6YKrUUpEC6UZy5h4SS8AAAEUQZ9SRRUsN/8NfmYpKADYT+sUJ28wAbOZYjUA1uCPrsj9LGmayEHfViFqprs9hCyO5nrnDitr9F+y+frAqfAUArS2ItUGpyb30FnPTxpFdXYmiS546+h9IpoCcpuD82inqQveL6mU7PLvIfJRX5ut2/QL/n/RtLcGtsGKuaRyDaxXAZMMVWXrirUoUHKpqpEahtWILnEqjfivx0pVaorLDEDkduyRaI7vzhkTBKX0kdJOBoTrjnXQZWipLdbRTNVVwwW4IgbBoRQIS/NtubkzSpZyjiUYha1o/Sh3X6wnboKp0msyy51tFs0DbjqkQZGIAJ+skGs62Z2pL+ozt8TzG0zACBXAQ9j89ZEf4gsKT3Rjy4NTAAAAwgGfcXRDPwNIxxr0OQdvUAHwk7WTN14O4fxbvmmF04C8OPDRvPtIX71eDJPbiuoNHcib/wZW60FYfhlkmCiGcjEQiINcOX981pswFIaJsBpoEJYR4Z8IyvGntnF78asrObdxcWp1PAIkBJnmuU/1Mhj/zuZB2AKD8VBmCP+QJWp0gTUex+s6tC7z5C47Z1FHSQTzMndl/nHPcuUULG3+p3tC8gHzzU4ixVod9jifJVFvicoZYXMsrKl5Ha7yaDyIVCDYAAAAogGfc2pDPw49pujECexLkoTNQAfCTtZM3Xg7h/Fu+aYXTgLw48NG8+0hfvV4LzH1ZXQnkhwbxnByUdru8R71RudSVp7PY0+IKKHXsdGlTaXuTW4C0FVBSLM1b9yjXRNbZWWUl3Nygabt8RfQpus1ZYovN/xvb3xqCIfAB3WqVSfH7br9pV4DZ0yuDucB14fHrDbhcaCummkXw9C+7NUkufHhdwAAAexBm3hJqEFsmUwIIf/+qlUbvOuAAzOY3lAAa/0vLp8UznkH7JQ48yny6y/2lMhaM38bRhIPkB7zCacfDQ19HYMH7+7L51a1XSertmTHlEqt2W7kG3AnS/Pk1/8goj1ypyreP7iGinEbmoVWF+jbN1aPHKlE79+r95FCHXjACssbheSVyCQbOWS3E6oyRYS7QXJpI1nC3FmEP/TNhEGnF9mPboEidU5bJ1etRlNZMkgr3aiiaS2jOnkScirNSxKNiME2dX0obMEw8dZpi8RyO3/5+fqzI9z6qsC1weMMF6Gz1/rLPN13tfe/jNcOjkIQP39SS8lNjTFT+jpe1fn9B+57bn7iPQ1E1XCYWEYRadaVszNcxh2JJjWnbj1+CRDIxELBbtGBr+Alh13d+UrrbwtnmTveELUednu4+LlYX6YJNyyjNRXCZQ6oaJn+CZUaftWx6ISj6nFEhRGJpk4ZAQNGa98D6Cl7R0dRxTPWvYZ8ebxSxB9IgEMxnMF1KuvTsPhKn5I6HaPEGNl1U3rgFm/lJch5s7UIaHIjNqslqp4+G7o3L3cVFTitI1OONBsOJW3QLpI168YCJX8YqRMC18pvcvj5Osm0VHNL4KG4CGOcTSh9FsBKEvrQHK6hUW1JY2CQs2RnK4H4eJ/+GTEAAADdQZ+WRRUsN/8CuvcIAXcqHE4SAD+Ojsr2R1U1y0dKD3f70HBGiUruxGZTzss1Ijrik25iKmxZLiMb53JUgMViCnsfYENi15/SQGOakeQLgcbHYAYxgDqTAw85bBB/fXquKCwuayEMcHC2znoPiJEg6HEJw2AZXaPoE2P+TRW7HFbe8YZ6Rti2a2PnK5Uj+Wj5yLokK6ZfdNhd2sLrLesDq5LMDSpLeze1SWf/FWMANcZEc5PkSmfMaBAfwEuGrkO1P33e4vBuwJPFUMk7YW6Y0jGd1rksNGGNj8aRQmYAAACJAZ+1dEM/A0jJd0ApdXGkOkBAByAO2Upw8nc44ldvfeo1HHmWj2k/zgXUJmLk6mFR+ISzY+IghAnh5mzMQfRK2OQ+z8Rw3ZEVNN/hjSy0Gso4z4CD999CVdcLyVKTZkJ8uSIm4EV6ZMkS2CFtllNlAD6JWzM2r15o3Aa3OjWNOSQvP6JvLLBUp+EAAACBAZ+3akM/A0gDRAGYKPRbPyBAByAO2Upw8nc44ldvfeo1HHmWj2k/zgXUJmLk6mFR+ISzY+IghAnh5mzMQfRK2OQ+z8Rw3ZEVNN/hjSy0Gso4z4CD999CVdcLyVKBsKk+XJETcCK9MmSJbBC2yymygAkELIGAfPJnCdNnA4+hUwE7AAAB6kGbvEmoQWyZTAh///6pllUbie0E4AJl6OGg4/uocLt86jOAYLRYDcr4W9kKeJzjKSuTucub37VfQdDCULtclBimCPdY3HMCjlGNSqDAtLiS34G7Y6u/fo9dym5q3amaFDSrEkEN1yWLIPPriT+uJVznvnxa5yigy1CkLsq4KtBmcGKIHDKKO242+5vAL6nD7oMVLOM+HLt9V9IzzIEStmwY06smdTqGUCNn0RyhFXXSsUCMWcMGd1/RMJ81lwtJwCsNK6aaz/pFzuRBaA8pccSDPDnelVp+sRrAls031R/+FzJ0fOTHr6i2sxI28r0lVUeNogA+uBZvtrUILd9jbHRRuc4AjyJ5DCsOnv/BMUhDYDY4xh4RddxDgdOlJQs9y0eUhkBgC1g7/JA+cHfWghNDZN/h2yX9Kn4ptzEc+LJLnEKMS6GMwWadNnwVVxyTQxTFsAIAQJqrByCGKUtMVXZ490wBpB6H+UE5j5hotarTJf36Uv4Wy+B/zVbmPsCPtiDYnusk/pfqJbWXCPOtULKWmW6vrIomeedBeTWjUR//Vu3hnHzbooVOrjEpdGfCdqtBqn8Y4MDyxULK3xb9hQoB4zpkYBM2TkEJbNF1ibIjo1n3ofhFfIVT0yEYSHs/KnKjzqrq1BP6N2AAAAC9QZ/aRRUsN/8CuuiTV3jogBLs7rNHf/evOuuy5aToBUYKaNIbCflp7ySNMw0h6awzksCa3C9zzeF4RIPPC5CiOq5eKRsVd59x6JmIIBHoHPjfHYBAaO7zhcVZ0/KxvdHIw4UjL2j1HKtHjsh9oA7aGNir8BHrLnAo6PuFlt+zdWBUKD3pEu9jRhNEzYyqYxXx65i9Va7t49+Jghe/e85kFw+vZqpiCn8Whp3gzCJSf4Z5F1JSdS/JZlyp2bphAAAAowGf+XRDPwNIyXdAKXVxpDpAQAcgDtlKcPJ3OOJXb33qNRx5lo9pP84F1CZi5OphUfiEs2PiIIQJ4eZszEH0StjkPs/EcN2RFTTf4Y0stBrKOM+Ag/ffQlXXC8lSk2ZCfLkiJuBFemTJEtghbZZTZQBAMzogfNfeK4eVoHoxaVBCAtJF/gzqHI+Nz0kwE29bxvbLVh/MNYwfewwwG6SHWUoFE4AAAAB9AZ/7akM/A0gDRAGYKPRbPyBAByAO2Upw8nc44ldvfeo1HHmWj2k/zgXUJmLk6mFR+ISzY+IghAnh5mzMQfRK2OQ+z8Rw3ZEVNN/hjSy0Gso4z4CD999CVdcLyVKBsKk+XJETcCK9MmSJbBC2yymygAmEL5Ai/HZuU4KUAh8AAAF6QZvgSahBbJlMCGf//p4R0d4JZejcAB2g7/k0npcfO4fCY+iQK/hmz0fUhWYRAJvkdlmk7F7ielXW2RuMBioIsZq7TCa/eX2UmjBUKd8GeoJ/43p18A0c+7SzcKTvOtB5ynMGHCX2u+6isC8QEinj+vaOToUSc3iO0+r+3djhuLLj3y+XaA8a9CFjbbpxrciMuDl0AfMRbpqS+MoUbb9eKLAEigPOW4kaf+er5++LaClxvrTkIkj287wk7dh+CP/eJ4hStzSdUkSrVF+Y2TxPqyHQ9raW6d/hoPbHuZEVLext2HYFM4NKdHcf1Gm9APgUfjEFfuhLe8gu1tsisGkCy52HsHJOKyGPqfms671eP2gC3m2dlGhq/rFSevvW1/EahfGIL+w/FGv40Gq/TIKUBsxU5gFnvR8hg/m7GP9Rv4EEMW5AvAjbAt9ChlPgnf9O/oAfk55cV9iaZKTeArKxIdSoVX7ijilsR48IzuikSI3qXhDDzIp3BMFTAAAAo0GeHkUVLDf/Arr3CpekFJ2QAfjZ+SmYqywnOmZDB+ddvN5LOrggDugqICFVYaQ7wSgGebiBpvDLUflj6J+TSuBaKaoudMZdONqG9gK6/TujG109mtvFSlB6b+4THxcFkybCuZigLsuhpTKh58NSTZp7zHFw9368k2pbEViMTvdIWuDboJoET2GwcTHxt1yKrmjIOSjU/EdojnCAZywMK6g7IakAAACUAZ49dEM/A0jJd0ApdXGkOkBAByAO2Upw8nc44ldvfeo1HHmWj2k/zgXUJmLk6mFR+ISzY+IghAnh5mzMQfRK2OQ+z8Rw3ZEVNN/hjSy0Gso4z4CD999CVdcLyVKTZkJ8uSIm4EV6ZMkS2CFtllNlABSWTCj3vcahKtzBr2uYuvBwT5UliIc8Je1J1AbNapqmaijUgAAAAJABnj9qQz8DSANEAZgo9Fs/IEAHIA7ZSnDydzjiV2996jUceZaPaT/OBdQmYuTqYVH4hLNj4iCECeHmbMxB9ErY5D7PxHDdkRU03+GNLLQayjjPgIP330JV1wvJUoGwqT5ckRNwIr0yZIlsELbLKbKACpjr+1/hGgxUdaagHWIdMGvcz/OdgDmnkYDano1e7jkAAASjbW9vdgAAAGxtdmhkAAAAAAAAAAAAAAAAAAAD6AAACr4AAQAAAQAAAAAAAAAAAAAAAAEAAAAAAAAAAAAAAAAAAAABAAAAAAAAAAAAAAAAAABAAAAAAAAAAAAAAAAAAAAAAAAAAAAAAAAAAAAAAAAAAgAAA810cmFrAAAAXHRraGQAAAADAAAAAAAAAAAAAAABAAAAAAAACr4AAAAAAAAAAAAAAAAAAAAAAAEAAAAAAAAAAAAAAAAAAAABAAAAAAAAAAAAAAAAAABAAAAAAlgAAAGQAAAAAAAkZWR0cwAAABxlbHN0AAAAAAAAAAEAAAq+AAAIAAABAAAAAANFbWRpYQAAACBtZGhkAAAAAAAAAAAAAAAAAAAwAAAAhABVxAAAAAAALWhkbHIAAAAAAAAAAHZpZGUAAAAAAAAAAAAAAABWaWRlb0hhbmRsZXIAAAAC8G1pbmYAAAAUdm1oZAAAAAEAAAAAAAAAAAAAACRkaW5mAAAAHGRyZWYAAAAAAAAAAQAAAAx1cmwgAAAAAQAAArBzdGJsAAAAnHN0c2QAAAAAAAAAAQAAAIxhdmMxAAAAAAAAAAEAAAAAAAAAAAAAAAAAAAAAAlgBkABIAAAASAAAAAAAAAABAAAAAAAAAAAAAAAAAAAAAAAAAAAAAAAAAAAAAAAAAAAAGP//AAAANmF2Y0MBZAAW/+EAGWdkABas2UCYM+XhAAADAAEAAAMAGA8WLZYBAAZo6+PLIsD9+PgAAAAAGHN0dHMAAAAAAAAAAQAAACEAAAQAAAAAFHN0c3MAAAAAAAAAAQAAAAEAAAEYY3R0cwAAAAAAAAAhAAAAAQAACAAAAAABAAAUAAAAAAEAAAgAAAAAAQAAAAAAAAABAAAEAAAAAAEAABQAAAAAAQAACAAAAAABAAAAAAAAAAEAAAQAAAAAAQAAFAAAAAABAAAIAAAAAAEAAAAAAAAAAQAABAAAAAABAAAUAAAAAAEAAAgAAAAAAQAAAAAAAAABAAAEAAAAAAEAABQAAAAAAQAACAAAAAABAAAAAAAAAAEAAAQAAAAAAQAAFAAAAAABAAAIAAAAAAEAAAAAAAAAAQAABAAAAAABAAAUAAAAAAEAAAgAAAAAAQAAAAAAAAABAAAEAAAAAAEAABQAAAAAAQAACAAAAAABAAAAAAAAAAEAAAQAAAAAHHN0c2MAAAAAAAAAAQAAAAEAAAAhAAAAAQAAAJhzdHN6AAAAAAAAAAAAAAAhAAAScAAAAmkAAADpAAAAsAAAAMQAAAHPAAAA7wAAAMgAAADgAAACCAAAAQcAAADuAAAA5gAAAegAAAEEAAAA2gAAALwAAAUlAAABGAAAAMYAAACmAAAB8AAAAOEAAACNAAAAhQAAAe4AAADBAAAApwAAAIEAAAF+AAAApwAAAJgAAACUAAAAFHN0Y28AAAAAAAAAAQAAADAAAABidWR0YQAAAFptZXRhAAAAAAAAACFoZGxyAAAAAAAAAABtZGlyYXBwbAAAAAAAAAAAAAAAAC1pbHN0AAAAJal0b28AAAAdZGF0YQAAAAEAAAAATGF2ZjU4LjQ1LjEwMA==\" type = \"video/mp4\"></video>"
      ]
     },
     "metadata": {},
     "execution_count": 10
    }
   ],
   "cell_type": "code",
   "source": [
    "startwalltime = time()\n",
    "\n",
    "p = plot_output(prob)\n",
    "\n",
    "anim = @animate for j = 0:round(Int, nsteps/nsubs)\n",
    "\n",
    " if j % (200 / nsubs) == 0\n",
    "    log = @sprintf(\"step: %04d, t: %d, walltime: %.2f min\",\n",
    "                   clock.step, clock.t, (time()-startwalltime)/60)\n",
    "\n",
    "    println(log)\n",
    "  end\n",
    "\n",
    "  p[1][1][:z] = Array(vars.c)\n",
    "  p[1][:title] = \"concentration, t=\" * @sprintf(\"%.2f\", clock.t)\n",
    "\n",
    "  stepforward!(prob, nsubs)\n",
    "  TracerAdvectionDiffusion.updatevars!(prob)\n",
    "end\n",
    "\n",
    "mp4(anim, \"cellularflow.mp4\", fps=12)"
   ],
   "metadata": {},
   "execution_count": 10
  },
  {
   "cell_type": "markdown",
   "source": [
    "---\n",
    "\n",
    "*This notebook was generated using [Literate.jl](https://github.com/fredrikekre/Literate.jl).*"
   ],
   "metadata": {}
  }
 ],
 "nbformat_minor": 3,
 "metadata": {
  "language_info": {
   "file_extension": ".jl",
   "mimetype": "application/julia",
   "name": "julia",
   "version": "1.6.1"
  },
  "kernelspec": {
   "name": "julia-1.6",
   "display_name": "Julia 1.6.1",
   "language": "julia"
  }
 },
 "nbformat": 4
}
