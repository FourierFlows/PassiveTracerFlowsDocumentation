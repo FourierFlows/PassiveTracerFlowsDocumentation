{
 "cells": [
  {
   "cell_type": "markdown",
   "source": [
    "# Advection-diffusion of tracer in one dimension\n",
    "\n",
    "This is an example demonstrating the advection-diffusion of a passive tracer in\n",
    "one dimension.\n",
    "\n",
    "## Install dependencies\n",
    "\n",
    "First let's make sure we have all the required packages installed"
   ],
   "metadata": {}
  },
  {
   "cell_type": "markdown",
   "source": [
    "```julia\n",
    "using Pkg\n",
    "pkg.add([\"PassiveTracerFlows\", \"Printf\", \"CairoMakie\", \"JLD2\"])\n",
    "```\n",
    "\n",
    "## Let's begin\n",
    "First load packages needed to run this example."
   ],
   "metadata": {}
  },
  {
   "outputs": [],
   "cell_type": "code",
   "source": [
    "using PassiveTracerFlows, CairoMakie, Printf, JLD2, LinearAlgebra"
   ],
   "metadata": {},
   "execution_count": 1
  },
  {
   "cell_type": "markdown",
   "source": [
    "## Choosing a device: CPU or GPU"
   ],
   "metadata": {}
  },
  {
   "outputs": [],
   "cell_type": "code",
   "source": [
    "dev = CPU()     # Device (CPU/GPU)\n",
    "nothing # hide"
   ],
   "metadata": {},
   "execution_count": 2
  },
  {
   "cell_type": "markdown",
   "source": [
    "## Numerical parameters and time-stepping parameters"
   ],
   "metadata": {}
  },
  {
   "outputs": [],
   "cell_type": "code",
   "source": [
    "      n = 128            # 2D resolution = n²\n",
    "stepper = \"RK4\"          # timestepper\n",
    "     dt = 0.02           # timestep\n",
    " nsteps = 5000           # total number of time-steps\n",
    "nothing # hide"
   ],
   "metadata": {},
   "execution_count": 3
  },
  {
   "cell_type": "markdown",
   "source": [
    "## Physical parameters"
   ],
   "metadata": {}
  },
  {
   "outputs": [],
   "cell_type": "code",
   "source": [
    "L = 2π       # domain size\n",
    "κ = 0.01     # diffusivity\n",
    "nothing # hide"
   ],
   "metadata": {},
   "execution_count": 4
  },
  {
   "cell_type": "markdown",
   "source": [
    "## Flow\n",
    "We set a constant background flow and pass this to `OneDAdvectingFlow` with `steadyflow = true` to\n",
    "indicate the flow is not time dependent."
   ],
   "metadata": {}
  },
  {
   "outputs": [
    {
     "output_type": "execute_result",
     "data": {
      "text/plain": "OneDAdvectingFlow(Main.##276.u, true)"
     },
     "metadata": {},
     "execution_count": 5
    }
   ],
   "cell_type": "code",
   "source": [
    "u(x) = 0.05\n",
    "advecting_flow = OneDAdvectingFlow(; u, steadyflow = true)"
   ],
   "metadata": {},
   "execution_count": 5
  },
  {
   "cell_type": "markdown",
   "source": [
    "## Problem setup\n",
    "We initialize a `Problem` by providing a set of keyword arguments."
   ],
   "metadata": {}
  },
  {
   "outputs": [],
   "cell_type": "code",
   "source": [
    "prob = TracerAdvectionDiffusion.Problem(dev, advecting_flow; nx=n, Lx=L, κ, dt, stepper)\n",
    "nothing # hide"
   ],
   "metadata": {},
   "execution_count": 6
  },
  {
   "cell_type": "markdown",
   "source": [
    "and define some shortcuts."
   ],
   "metadata": {}
  },
  {
   "outputs": [
    {
     "output_type": "execute_result",
     "data": {
      "text/plain": "-3.141592653589793:0.04908738521234052:3.0925052683774528"
     },
     "metadata": {},
     "execution_count": 7
    }
   ],
   "cell_type": "code",
   "source": [
    "sol, clock, vars, params, grid = prob.sol, prob.clock, prob.vars, prob.params, prob.grid\n",
    "x = grid.x"
   ],
   "metadata": {},
   "execution_count": 7
  },
  {
   "cell_type": "markdown",
   "source": [
    "## Initial condition\n",
    "We advect-diffuse a concentration field that has an initial concentration set to Gaussian."
   ],
   "metadata": {}
  },
  {
   "outputs": [],
   "cell_type": "code",
   "source": [
    "gaussian(x, σ) = exp(-x^2 / 2σ^2)\n",
    "\n",
    "amplitude, spread = 1, 0.15\n",
    "c₀ = [amplitude * gaussian(x[i], spread) for i in 1:grid.nx]\n",
    "\n",
    "TracerAdvectionDiffusion.set_c!(prob, c₀)\n",
    "nothing #hide"
   ],
   "metadata": {},
   "execution_count": 8
  },
  {
   "cell_type": "markdown",
   "source": [
    "## Saving output\n",
    "We create the saved output using the `Output` function from `FourierFlows.jl` then\n",
    "save the concentration field using the `get_concentration` function every 50 timesteps."
   ],
   "metadata": {}
  },
  {
   "outputs": [
    {
     "output_type": "execute_result",
     "data": {
      "text/plain": "Output\n  ├──── prob: FourierFlows.Problem{DataType, Vector{ComplexF64}, Float64, Vector{Float64}}\n  ├──── path: advection-diffusion1D.jld2\n  └── fields: Dict{Symbol, Function}(:concentration => Main.##276.get_concentration)"
     },
     "metadata": {},
     "execution_count": 9
    }
   ],
   "cell_type": "code",
   "source": [
    "function get_concentration(prob)\n",
    "  ldiv!(prob.vars.c, prob.grid.rfftplan, deepcopy(prob.sol))\n",
    "\n",
    "  return prob.vars.c\n",
    "end\n",
    "\n",
    "output = Output(prob, \"advection-diffusion1D.jld2\",\n",
    "                (:concentration, get_concentration))"
   ],
   "metadata": {},
   "execution_count": 9
  },
  {
   "cell_type": "markdown",
   "source": [
    "By calling `saveproblem(output)` we save information that we will use for plotting later on."
   ],
   "metadata": {}
  },
  {
   "outputs": [],
   "cell_type": "code",
   "source": [
    "saveproblem(output)"
   ],
   "metadata": {},
   "execution_count": 10
  },
  {
   "cell_type": "markdown",
   "source": [
    "## Stepping the problem forward\n",
    "Now we step the problem forward and save output every 50 timesteps."
   ],
   "metadata": {}
  },
  {
   "outputs": [
    {
     "name": "stdout",
     "output_type": "stream",
     "text": [
      "Output saved, step: 0000, t: 0.00, walltime: 0.05 min\n",
      "Output saved, step: 0050, t: 1.00, walltime: 0.06 min\n",
      "Output saved, step: 0100, t: 2.00, walltime: 0.06 min\n",
      "Output saved, step: 0150, t: 3.00, walltime: 0.06 min\n",
      "Output saved, step: 0200, t: 4.00, walltime: 0.06 min\n",
      "Output saved, step: 0250, t: 5.00, walltime: 0.06 min\n",
      "Output saved, step: 0300, t: 6.00, walltime: 0.06 min\n",
      "Output saved, step: 0350, t: 7.00, walltime: 0.06 min\n",
      "Output saved, step: 0400, t: 8.00, walltime: 0.06 min\n",
      "Output saved, step: 0450, t: 9.00, walltime: 0.06 min\n",
      "Output saved, step: 0500, t: 10.00, walltime: 0.06 min\n",
      "Output saved, step: 0550, t: 11.00, walltime: 0.06 min\n",
      "Output saved, step: 0600, t: 12.00, walltime: 0.06 min\n",
      "Output saved, step: 0650, t: 13.00, walltime: 0.06 min\n",
      "Output saved, step: 0700, t: 14.00, walltime: 0.06 min\n",
      "Output saved, step: 0750, t: 15.00, walltime: 0.06 min\n",
      "Output saved, step: 0800, t: 16.00, walltime: 0.06 min\n",
      "Output saved, step: 0850, t: 17.00, walltime: 0.06 min\n",
      "Output saved, step: 0900, t: 18.00, walltime: 0.06 min\n",
      "Output saved, step: 0950, t: 19.00, walltime: 0.06 min\n",
      "Output saved, step: 1000, t: 20.00, walltime: 0.06 min\n",
      "Output saved, step: 1050, t: 21.00, walltime: 0.06 min\n",
      "Output saved, step: 1100, t: 22.00, walltime: 0.06 min\n",
      "Output saved, step: 1150, t: 23.00, walltime: 0.06 min\n",
      "Output saved, step: 1200, t: 24.00, walltime: 0.06 min\n",
      "Output saved, step: 1250, t: 25.00, walltime: 0.06 min\n",
      "Output saved, step: 1300, t: 26.00, walltime: 0.06 min\n",
      "Output saved, step: 1350, t: 27.00, walltime: 0.06 min\n",
      "Output saved, step: 1400, t: 28.00, walltime: 0.06 min\n",
      "Output saved, step: 1450, t: 29.00, walltime: 0.06 min\n",
      "Output saved, step: 1500, t: 30.00, walltime: 0.06 min\n",
      "Output saved, step: 1550, t: 31.00, walltime: 0.06 min\n",
      "Output saved, step: 1600, t: 32.00, walltime: 0.06 min\n",
      "Output saved, step: 1650, t: 33.00, walltime: 0.06 min\n",
      "Output saved, step: 1700, t: 34.00, walltime: 0.06 min\n",
      "Output saved, step: 1750, t: 35.00, walltime: 0.06 min\n",
      "Output saved, step: 1800, t: 36.00, walltime: 0.06 min\n",
      "Output saved, step: 1850, t: 37.00, walltime: 0.06 min\n",
      "Output saved, step: 1900, t: 38.00, walltime: 0.06 min\n",
      "Output saved, step: 1950, t: 39.00, walltime: 0.06 min\n",
      "Output saved, step: 2000, t: 40.00, walltime: 0.06 min\n",
      "Output saved, step: 2050, t: 41.00, walltime: 0.06 min\n",
      "Output saved, step: 2100, t: 42.00, walltime: 0.06 min\n",
      "Output saved, step: 2150, t: 43.00, walltime: 0.06 min\n",
      "Output saved, step: 2200, t: 44.00, walltime: 0.06 min\n",
      "Output saved, step: 2250, t: 45.00, walltime: 0.06 min\n",
      "Output saved, step: 2300, t: 46.00, walltime: 0.06 min\n",
      "Output saved, step: 2350, t: 47.00, walltime: 0.06 min\n",
      "Output saved, step: 2400, t: 48.00, walltime: 0.06 min\n",
      "Output saved, step: 2450, t: 49.00, walltime: 0.06 min\n",
      "Output saved, step: 2500, t: 50.00, walltime: 0.06 min\n",
      "Output saved, step: 2550, t: 51.00, walltime: 0.06 min\n",
      "Output saved, step: 2600, t: 52.00, walltime: 0.06 min\n",
      "Output saved, step: 2650, t: 53.00, walltime: 0.06 min\n",
      "Output saved, step: 2700, t: 54.00, walltime: 0.06 min\n",
      "Output saved, step: 2750, t: 55.00, walltime: 0.07 min\n",
      "Output saved, step: 2800, t: 56.00, walltime: 0.07 min\n",
      "Output saved, step: 2850, t: 57.00, walltime: 0.07 min\n",
      "Output saved, step: 2900, t: 58.00, walltime: 0.07 min\n",
      "Output saved, step: 2950, t: 59.00, walltime: 0.07 min\n",
      "Output saved, step: 3000, t: 60.00, walltime: 0.07 min\n",
      "Output saved, step: 3050, t: 61.00, walltime: 0.07 min\n",
      "Output saved, step: 3100, t: 62.00, walltime: 0.07 min\n",
      "Output saved, step: 3150, t: 63.00, walltime: 0.07 min\n",
      "Output saved, step: 3200, t: 64.00, walltime: 0.07 min\n",
      "Output saved, step: 3250, t: 65.00, walltime: 0.07 min\n",
      "Output saved, step: 3300, t: 66.00, walltime: 0.07 min\n",
      "Output saved, step: 3350, t: 67.00, walltime: 0.07 min\n",
      "Output saved, step: 3400, t: 68.00, walltime: 0.07 min\n",
      "Output saved, step: 3450, t: 69.00, walltime: 0.07 min\n",
      "Output saved, step: 3500, t: 70.00, walltime: 0.07 min\n",
      "Output saved, step: 3550, t: 71.00, walltime: 0.07 min\n",
      "Output saved, step: 3600, t: 72.00, walltime: 0.07 min\n",
      "Output saved, step: 3650, t: 73.00, walltime: 0.07 min\n",
      "Output saved, step: 3700, t: 74.00, walltime: 0.07 min\n",
      "Output saved, step: 3750, t: 75.00, walltime: 0.07 min\n",
      "Output saved, step: 3800, t: 76.00, walltime: 0.07 min\n",
      "Output saved, step: 3850, t: 77.00, walltime: 0.07 min\n",
      "Output saved, step: 3900, t: 78.00, walltime: 0.07 min\n",
      "Output saved, step: 3950, t: 79.00, walltime: 0.07 min\n",
      "Output saved, step: 4000, t: 80.00, walltime: 0.07 min\n",
      "Output saved, step: 4050, t: 81.00, walltime: 0.07 min\n",
      "Output saved, step: 4100, t: 82.00, walltime: 0.07 min\n",
      "Output saved, step: 4150, t: 83.00, walltime: 0.07 min\n",
      "Output saved, step: 4200, t: 84.00, walltime: 0.07 min\n",
      "Output saved, step: 4250, t: 85.00, walltime: 0.07 min\n",
      "Output saved, step: 4300, t: 86.00, walltime: 0.07 min\n",
      "Output saved, step: 4350, t: 87.00, walltime: 0.07 min\n",
      "Output saved, step: 4400, t: 88.00, walltime: 0.07 min\n",
      "Output saved, step: 4450, t: 89.00, walltime: 0.07 min\n",
      "Output saved, step: 4500, t: 90.00, walltime: 0.07 min\n",
      "Output saved, step: 4550, t: 91.00, walltime: 0.07 min\n",
      "Output saved, step: 4600, t: 92.00, walltime: 0.07 min\n",
      "Output saved, step: 4650, t: 93.00, walltime: 0.07 min\n",
      "Output saved, step: 4700, t: 94.00, walltime: 0.07 min\n",
      "Output saved, step: 4750, t: 95.00, walltime: 0.07 min\n",
      "Output saved, step: 4800, t: 96.00, walltime: 0.07 min\n",
      "Output saved, step: 4850, t: 97.00, walltime: 0.07 min\n",
      "Output saved, step: 4900, t: 98.00, walltime: 0.07 min\n",
      "Output saved, step: 4950, t: 99.00, walltime: 0.07 min\n",
      "Output saved, step: 5000, t: 100.00, walltime: 0.07 min\n"
     ]
    }
   ],
   "cell_type": "code",
   "source": [
    "save_frequency = 50 # frequency at which output is saved\n",
    "\n",
    "startwalltime = time()\n",
    "while clock.step <= nsteps\n",
    "  if clock.step % save_frequency == 0\n",
    "    saveoutput(output)\n",
    "    log = @sprintf(\"Output saved, step: %04d, t: %.2f, walltime: %.2f min\",\n",
    "                   clock.step, clock.t, (time()-startwalltime) / 60)\n",
    "\n",
    "    println(log)\n",
    "  end\n",
    "\n",
    "  stepforward!(prob)\n",
    "end"
   ],
   "metadata": {},
   "execution_count": 11
  },
  {
   "cell_type": "markdown",
   "source": [
    "## Visualising the output\n",
    "We load the `.jld2` file and create a timeseries of the concentration field"
   ],
   "metadata": {}
  },
  {
   "outputs": [],
   "cell_type": "code",
   "source": [
    "file = jldopen(output.path)\n",
    "\n",
    "iterations = parse.(Int, keys(file[\"snapshots/t\"]))\n",
    "\n",
    "t = [file[\"snapshots/t/$i\"] for i ∈ iterations]\n",
    "c = [file[\"snapshots/concentration/$i\"] for i ∈ iterations]\n",
    "nothing # hide"
   ],
   "metadata": {},
   "execution_count": 12
  },
  {
   "cell_type": "markdown",
   "source": [
    "Set up the plotting arguments and look at the initial concentration."
   ],
   "metadata": {}
  },
  {
   "outputs": [
    {
     "output_type": "execute_result",
     "data": {
      "text/plain": "Lines{Tuple{Vector{Point{2, Float32}}}}"
     },
     "metadata": {},
     "execution_count": 13
    }
   ],
   "cell_type": "code",
   "source": [
    "x, Lx = file[\"grid/x\"], file[\"grid/Lx\"]\n",
    "\n",
    "n = Observable(1)\n",
    "c_anim = @lift c[$n]\n",
    "title = @lift @sprintf(\"concentration, t = %s\", t[$n])\n",
    "\n",
    "fig = Figure(resolution = (600, 600))\n",
    "ax = Axis(fig[1, 1],\n",
    "          xlabel = \"x\",\n",
    "          ylabel = \"c\",\n",
    "          limits = ((-Lx/2, Lx/2), (0, maximum(c[1]))))\n",
    "\n",
    "lines!(ax, x, c_anim; linewidth = 4)"
   ],
   "metadata": {},
   "execution_count": 13
  },
  {
   "cell_type": "markdown",
   "source": [
    "Now, we create a movie of the tracer concentration being advected and diffused."
   ],
   "metadata": {}
  },
  {
   "outputs": [],
   "cell_type": "code",
   "source": [
    "frames = 1:length(t)\n",
    "record(fig, \"1D_advection-diffusion.mp4\", frames, framerate = 18) do i\n",
    "    n[] = i\n",
    "end\n",
    "\n",
    "nothing # hide"
   ],
   "metadata": {},
   "execution_count": 14
  },
  {
   "cell_type": "markdown",
   "source": [
    "![](1D_advection-diffusion.mp4)"
   ],
   "metadata": {}
  },
  {
   "cell_type": "markdown",
   "source": [
    "---\n",
    "\n",
    "*This notebook was generated using [Literate.jl](https://github.com/fredrikekre/Literate.jl).*"
   ],
   "metadata": {}
  }
 ],
 "nbformat_minor": 3,
 "metadata": {
  "language_info": {
   "file_extension": ".jl",
   "mimetype": "application/julia",
   "name": "julia",
   "version": "1.6.7"
  },
  "kernelspec": {
   "name": "julia-1.6",
   "display_name": "Julia 1.6.7",
   "language": "julia"
  }
 },
 "nbformat": 4
}
